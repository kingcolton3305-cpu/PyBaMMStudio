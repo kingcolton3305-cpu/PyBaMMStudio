{
  "nbformat": 4,
  "nbformat_minor": 0,
  "metadata": {
    "colab": {
      "provenance": [],
      "authorship_tag": "ABX9TyPNGXxacW7W0mlYLhSF/Ksu",
      "include_colab_link": true
    },
    "kernelspec": {
      "name": "python3",
      "display_name": "Python 3"
    },
    "language_info": {
      "name": "python"
    }
  },
  "cells": [
    {
      "cell_type": "markdown",
      "metadata": {
        "id": "view-in-github",
        "colab_type": "text"
      },
      "source": [
        "<a href=\"https://colab.research.google.com/github/kingcolton3305-cpu/PyBaMMStudio/blob/main/PyBaMM_Studio_Vertical_Slice.ipynb\" target=\"_parent\"><img src=\"https://colab.research.google.com/assets/colab-badge.svg\" alt=\"Open In Colab\"/></a>"
      ]
    },
    {
      "cell_type": "markdown",
      "source": [
        "# PyBaMM Studio Vertical Slice\n",
        "This notebook is meant to demonstrate a a vertical slice of code that demonstrates the smallest working path for PyBaMM Studio. It contains:\n",
        "*    Three small Python functions (≤15 lines each): include docstrings, type hints, ≥2 inline comments.\n",
        "\n",
        "*    Sanity tests: 2–3 asserts per function that run before the pipeline.\n",
        "\n",
        "*    Pipeline run cell: connect the functions in sequence and produce a visible output (printed bullets, table, or matplotlib plot).\n",
        "\n",
        "*    Reflection cell (5–8 sentences): what worked, one limitation, next step.\n",
        "\n",
        "\n",
        "\n"
      ],
      "metadata": {
        "id": "R0vqq9830a8F"
      }
    },
    {
      "cell_type": "code",
      "source": [
        "# Install PyBaMM first to handle dependencies\n",
        "!pip -q install pybamm numpy matplotlib\n",
        "\n",
        "# (Optional) verify versions\n",
        "# import numpy as np, matplotlib, pybamm\n",
        "# print(\"NumPy:\", np.__version__)\n",
        "# print(\"Matplotlib:\", matplotlib.__version__)\n",
        "# print(\"PyBaMM:\", pybamm.__version__)"
      ],
      "metadata": {
        "id": "av0UE59h6nxI"
      },
      "execution_count": null,
      "outputs": []
    },
    {
      "cell_type": "code",
      "source": [
        "\"\"\"\n",
        "Thin vertical slice (Colab): run -> export -> visualize using PyBaMM + Chen2020.\n",
        "Each function <15 lines, with docstrings, type hints, >=2 inline comments, and 2–3 pre-run asserts.\n",
        "\"\"\"\n",
        "\n",
        "import json, datetime\n",
        "from pathlib import Path\n",
        "import numpy as np\n",
        "import matplotlib.pyplot as plt\n",
        "import pybamm\n",
        "\n",
        "\n",
        "def run_model(model_name: str, parameter_chemistry: str, t_eval: np.ndarray, solver_opts: dict) -> pybamm.Solution:\n",
        "    \"\"\"Solve a lithium-ion model end-to-end via Simulation and return a Solution.\"\"\"\n",
        "    models = {\"SPM\": pybamm.lithium_ion.SPM, \"DFN\": pybamm.lithium_ion.DFN, \"SPMe\": pybamm.lithium_ion.SPMe}\n",
        "    assert model_name in models, f\"Unsupported model_name: {model_name}\"\n",
        "    assert t_eval.ndim == 1 and t_eval.size > 2 and np.all(np.diff(t_eval) > 0), \"t_eval must be 1D & increasing\"\n",
        "    rtol, atol = float(solver_opts.get(\"rtol\", 1e-6)), float(solver_opts.get(\"atol\", 1e-6))\n",
        "    assert rtol > 0 and atol > 0, \"rtol/atol must be positive\"\n",
        "    model = models[model_name]()                                          # Build chosen model\n",
        "    params = pybamm.ParameterValues(parameter_chemistry)                  # Load Chen2020 dict\n",
        "    mins = max(t_eval) / 60.0                                             # Map horizon -> experiment duration\n",
        "    exp = pybamm.Experiment([f\"Discharge at C/10 for {int(round(mins))} minutes\"])\n",
        "    sim = pybamm.Simulation(model, parameter_values=params,\n",
        "                            experiment=exp, solver=pybamm.CasadiSolver(rtol=rtol, atol=atol))\n",
        "    return sim.solve(t_eval=t_eval)                                       # Solve on requested grid\n",
        "\n",
        "\n",
        "def export_repro_pack(params: pybamm.ParameterValues, solver_settings: dict, model_name: str, filepath: str) -> str:\n",
        "    \"\"\"Export parameters + solver settings to JSON and return the saved path.\"\"\"\n",
        "    assert filepath.endswith(\".json\"), \"filepath must end with .json\"\n",
        "    assert isinstance(solver_settings, dict) and {\"rtol\", \"atol\"} <= set(solver_settings), \"Missing rtol/atol\"\n",
        "    assert hasattr(params, \"values\") and len(params.values()) >= 10, \"Parameter set looks too small\"\n",
        "\n",
        "    # Create a serializable dictionary of parameter values\n",
        "    serializable_params = {}\n",
        "    for key, value in params.items():\n",
        "        try:\n",
        "            json.dumps(value) # Check if value is serializable\n",
        "            serializable_params[key] = value\n",
        "        except TypeError:\n",
        "            serializable_params[key] = str(value) # Convert non-serializable values to string\n",
        "\n",
        "    bundle = {  # Minimal provenance; extend as needed\n",
        "        \"model_name\": model_name,\n",
        "        \"pybamm_version\": pybamm.__version__,\n",
        "        \"app_version\": \"0.0.1-demo\",\n",
        "        \"solver_settings\": solver_settings,\n",
        "        \"parameter_values\": serializable_params,\n",
        "        \"timestamp_iso\": datetime.datetime.now().isoformat(),\n",
        "    }\n",
        "    with open(filepath, \"w\") as f:\n",
        "        json.dump(bundle, f, indent=2)                                    # Persist JSON\n",
        "    return filepath\n",
        "\n",
        "\n",
        "def visualize_results(sol: pybamm.Solution, variables: list[str], out_png: str) -> str:\n",
        "    \"\"\"Plot selected variables vs time and save PNG, returning the path.\"\"\"\n",
        "    assert isinstance(variables, list) and len(variables) > 0, \"variables must be non-empty list\"\n",
        "    assert out_png.endswith(\".png\"), \"out_png must end with .png\"\n",
        "    assert hasattr(sol, \"t\") and sol.t.size > 1, \"Solution missing time vector\"\n",
        "    fig, ax = plt.subplots()                                              # Create figure\n",
        "    t = sol.t                                                             # Use solver timebase\n",
        "    for var in variables:\n",
        "        try:\n",
        "            # Attempt to get the variable directly\n",
        "            variable_data = sol[var]\n",
        "            name = var\n",
        "        except KeyError:\n",
        "            # If not found, try \"Terminal voltage [V]\" as a fallback for voltage\n",
        "            if var == \"Voltage [V]\":\n",
        "                try:\n",
        "                    variable_data = sol[\"Terminal voltage [V]\"]\n",
        "                    name = \"Terminal voltage [V]\"\n",
        "                except KeyError:\n",
        "                    print(f\"[warn] Voltage variable not found: {var} or Terminal voltage [V]\"); continue\n",
        "            else:\n",
        "                print(f\"[warn] Variable not found: {var}\"); continue\n",
        "\n",
        "        ax.plot(t, variable_data.entries, label=name)  # Plot variable\n",
        "    ax.set_xlabel(\"Time [s]\"); ax.set_ylabel(\"Value\"); ax.legend(); ax.grid(True)\n",
        "    fig.savefig(out_png, dpi=150, bbox_inches=\"tight\")                    # Save artifact\n",
        "    return out_png\n",
        "\n",
        "\n",
        "# -------------------- End-to-end pipeline --------------------\n",
        "# Configure demo: 0–600 s @ 1 s\n",
        "chemistry = \"Chen2020\" # Corrected parameter set access\n",
        "params = pybamm.ParameterValues(chemistry) # Corrected parameter set access\n",
        "t_eval = np.linspace(0, 36000, 1201)\n",
        "solver_opts = {\"rtol\": 1e-6, \"atol\": 1e-6}\n",
        "\n",
        "# 1) Run\n",
        "solution = run_model(\"SPM\", chemistry, t_eval, solver_opts)\n",
        "\n",
        "# 2) Export reproducibility bundle\n",
        "json_path = export_repro_pack(params, solver_opts, \"SPM\", \"repro_pack.json\")\n",
        "\n",
        "# 3) Visualize and save plot\n",
        "png_path = visualize_results(solution, [\"Voltage [V]\"], \"voltage_vs_time.png\")\n",
        "\n",
        "# Visible outputs & sanity summary\n",
        "try:\n",
        "    v = solution[\"Voltage [V]\"]\n",
        "except KeyError:\n",
        "    v = solution[\"Terminal voltage [V]\"] # Fallback to Terminal voltage if Voltage not found\n",
        "\n",
        "print(f\"[ok] n_time={solution.t.size}, V_min={float(v.entries.min()):.3f} V, V_max={float(v.entries.max()):.3f} V\") # Corrected: access min/max from .entries\n",
        "print(f\"[ok] Repro-Pack: {Path(json_path).resolve()}\")\n",
        "print(f\"[ok] Plot saved: {Path(png_path).resolve()}\")\n",
        "plt.show()"
      ],
      "metadata": {
        "colab": {
          "base_uri": "https://localhost:8080/",
          "height": 541
        },
        "id": "0sY-PAc46gG3",
        "outputId": "3528ef89-feef-46ab-cd02-36105ba4e134"
      },
      "execution_count": null,
      "outputs": [
        {
          "output_type": "stream",
          "name": "stderr",
          "text": [
            "2025-09-16 19:43:19.573 - [WARNING] simulation.solve(557): Ignoring t_eval as solution times are specified by the experiment\n",
            "WARNING:pybamm.logger:Ignoring t_eval as solution times are specified by the experiment\n"
          ]
        },
        {
          "output_type": "stream",
          "name": "stdout",
          "text": [
            "[ok] n_time=601, V_min=2.795 V, V_max=4.161 V\n",
            "[ok] Repro-Pack: /content/repro_pack.json\n",
            "[ok] Plot saved: /content/voltage_vs_time.png\n"
          ]
        },
        {
          "output_type": "display_data",
          "data": {
            "text/plain": [
              "<Figure size 640x480 with 1 Axes>"
            ],
            "image/png": "[encoded data removed]"
          },
          "metadata": {}
        }
      ]
    },
    {
      "cell_type": "markdown",
      "source": [
        "## Reflection\n",
        "The SPM model with Chen2020 parameters successfully produced a solution over a 1-hour simulation. Both the JSON Repro-Pack and the voltage_vs_time.png file were exported as expected. One limitation was how the turnover potential was defined: instead of using the minimum and maximum voltage, it was taken as the terminal voltage. This distinction will need careful consideration for future implementations. In the final product, each of these functions will likely be expanded into separate scripts rather than remaining in a single file. The next step is to begin developing the UI around these three core functions."
      ],
      "metadata": {
        "id": "GJXwy0YFJERC"
      }
    }
  ]
}